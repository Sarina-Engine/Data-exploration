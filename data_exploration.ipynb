{
 "cells": [
  {
   "cell_type": "code",
   "execution_count": 1,
   "metadata": {},
   "outputs": [],
   "source": [
    "import os\n",
    "import re\n",
    "import json\n",
    "import copy\n",
    "import collections\n",
    "import numpy as np\n",
    "import pandas as pd\n",
    "import hazm\n",
    "from cleantext import clean"
   ]
  },
  {
   "cell_type": "code",
   "execution_count": 2,
   "metadata": {},
   "outputs": [],
   "source": [
    "cat_df = pd.read_csv('categories.csv')\n",
    "com_df = pd.read_csv('comments.csv')\n",
    "products_df = pd.read_csv('products.csv')"
   ]
  },
  {
   "attachments": {},
   "cell_type": "markdown",
   "metadata": {},
   "source": [
    "## Categories exploration"
   ]
  },
  {
   "cell_type": "code",
   "execution_count": 3,
   "metadata": {},
   "outputs": [
    {
     "data": {
      "text/html": [
       "<div>\n",
       "<style scoped>\n",
       "    .dataframe tbody tr th:only-of-type {\n",
       "        vertical-align: middle;\n",
       "    }\n",
       "\n",
       "    .dataframe tbody tr th {\n",
       "        vertical-align: top;\n",
       "    }\n",
       "\n",
       "    .dataframe thead th {\n",
       "        text-align: right;\n",
       "    }\n",
       "</style>\n",
       "<table border=\"1\" class=\"dataframe\">\n",
       "  <thead>\n",
       "    <tr style=\"text-align: right;\">\n",
       "      <th></th>\n",
       "      <th>vid</th>\n",
       "      <th>id</th>\n",
       "      <th>title_fa</th>\n",
       "      <th>code</th>\n",
       "      <th>parent_cat</th>\n",
       "      <th>done</th>\n",
       "    </tr>\n",
       "  </thead>\n",
       "  <tbody>\n",
       "    <tr>\n",
       "      <th>0</th>\n",
       "      <td>2</td>\n",
       "      <td>2</td>\n",
       "      <td>تبلت و کتابخوان</td>\n",
       "      <td>tablet-ebook-reader</td>\n",
       "      <td>5966</td>\n",
       "      <td>t</td>\n",
       "    </tr>\n",
       "    <tr>\n",
       "      <th>1</th>\n",
       "      <td>3</td>\n",
       "      <td>3</td>\n",
       "      <td>لپ تاپ</td>\n",
       "      <td>laptop</td>\n",
       "      <td>5966</td>\n",
       "      <td>t</td>\n",
       "    </tr>\n",
       "    <tr>\n",
       "      <th>2</th>\n",
       "      <td>4</td>\n",
       "      <td>6</td>\n",
       "      <td>دوربین</td>\n",
       "      <td>camera</td>\n",
       "      <td>5966</td>\n",
       "      <td>t</td>\n",
       "    </tr>\n",
       "    <tr>\n",
       "      <th>3</th>\n",
       "      <td>5</td>\n",
       "      <td>4</td>\n",
       "      <td>کامپیوتر و تجهیزات جانبی</td>\n",
       "      <td>computer-parts</td>\n",
       "      <td>5966</td>\n",
       "      <td>t</td>\n",
       "    </tr>\n",
       "    <tr>\n",
       "      <th>4</th>\n",
       "      <td>6</td>\n",
       "      <td>5</td>\n",
       "      <td>ماشین های اداری</td>\n",
       "      <td>office-machines</td>\n",
       "      <td>5966</td>\n",
       "      <td>t</td>\n",
       "    </tr>\n",
       "  </tbody>\n",
       "</table>\n",
       "</div>"
      ],
      "text/plain": [
       "   vid  id                  title_fa                 code  parent_cat done\n",
       "0    2   2           تبلت و کتابخوان  tablet-ebook-reader        5966    t\n",
       "1    3   3                    لپ تاپ               laptop        5966    t\n",
       "2    4   6                    دوربین               camera        5966    t\n",
       "3    5   4  کامپیوتر و تجهیزات جانبی       computer-parts        5966    t\n",
       "4    6   5           ماشین های اداری      office-machines        5966    t"
      ]
     },
     "execution_count": 3,
     "metadata": {},
     "output_type": "execute_result"
    }
   ],
   "source": [
    "cat_df.head()"
   ]
  },
  {
   "cell_type": "code",
   "execution_count": 4,
   "metadata": {},
   "outputs": [],
   "source": [
    "cat_df = cat_df.drop(columns=['vid','id','parent_cat'])"
   ]
  },
  {
   "cell_type": "code",
   "execution_count": 5,
   "metadata": {},
   "outputs": [
    {
     "name": "stdout",
     "output_type": "stream",
     "text": [
      "Number of unique categories: 95\n",
      "Number of unique cat codes: 95\n",
      "<class 'pandas.core.frame.DataFrame'>\n",
      "RangeIndex: 96 entries, 0 to 95\n",
      "Data columns (total 3 columns):\n",
      " #   Column    Non-Null Count  Dtype \n",
      "---  ------    --------------  ----- \n",
      " 0   title_fa  96 non-null     object\n",
      " 1   code      96 non-null     object\n",
      " 2   done      96 non-null     object\n",
      "dtypes: object(3)\n",
      "memory usage: 2.4+ KB\n"
     ]
    }
   ],
   "source": [
    "cat_df.head()\n",
    "print(f\"Number of unique categories: {cat_df['title_fa'].nunique()}\")\n",
    "print(f\"Number of unique cat codes: {cat_df['code'].nunique()}\")\n",
    "# print(cat_df['title_fa'].apply(lambda t: len(hazm.word_tokenize(t))))\n",
    "cat_df.info()"
   ]
  },
  {
   "attachments": {},
   "cell_type": "markdown",
   "metadata": {},
   "source": [
    "## Comments exploration"
   ]
  },
  {
   "cell_type": "code",
   "execution_count": 6,
   "metadata": {},
   "outputs": [
    {
     "data": {
      "text/html": [
       "<div>\n",
       "<style scoped>\n",
       "    .dataframe tbody tr th:only-of-type {\n",
       "        vertical-align: middle;\n",
       "    }\n",
       "\n",
       "    .dataframe tbody tr th {\n",
       "        vertical-align: top;\n",
       "    }\n",
       "\n",
       "    .dataframe thead th {\n",
       "        text-align: right;\n",
       "    }\n",
       "</style>\n",
       "<table border=\"1\" class=\"dataframe\">\n",
       "  <thead>\n",
       "    <tr style=\"text-align: right;\">\n",
       "      <th></th>\n",
       "      <th>vid</th>\n",
       "      <th>id</th>\n",
       "      <th>product_id</th>\n",
       "      <th>body</th>\n",
       "      <th>rate</th>\n",
       "      <th>done</th>\n",
       "    </tr>\n",
       "  </thead>\n",
       "  <tbody>\n",
       "    <tr>\n",
       "      <th>0</th>\n",
       "      <td>3</td>\n",
       "      <td>43838571</td>\n",
       "      <td>6909055</td>\n",
       "      <td>اصلا به بلوتوث وصل نمیشه نمیشه ساعتش را تنظیم ...</td>\n",
       "      <td>1.0</td>\n",
       "      <td>f</td>\n",
       "    </tr>\n",
       "    <tr>\n",
       "      <th>1</th>\n",
       "      <td>6</td>\n",
       "      <td>43831255</td>\n",
       "      <td>6909055</td>\n",
       "      <td>یه چیزی فرستادین که فقط روشن میشه و بعد چند ثا...</td>\n",
       "      <td>1.0</td>\n",
       "      <td>f</td>\n",
       "    </tr>\n",
       "    <tr>\n",
       "      <th>2</th>\n",
       "      <td>8</td>\n",
       "      <td>43826435</td>\n",
       "      <td>6909055</td>\n",
       "      <td>سلام یکی از دکمه هاش کار نمی کنه</td>\n",
       "      <td>1.0</td>\n",
       "      <td>f</td>\n",
       "    </tr>\n",
       "    <tr>\n",
       "      <th>3</th>\n",
       "      <td>9</td>\n",
       "      <td>43822870</td>\n",
       "      <td>6909055</td>\n",
       "      <td>کالای نورد قبولی هستش؛ نسبت به قیمت واقعا عالی...</td>\n",
       "      <td>0.0</td>\n",
       "      <td>f</td>\n",
       "    </tr>\n",
       "    <tr>\n",
       "      <th>4</th>\n",
       "      <td>10</td>\n",
       "      <td>43816708</td>\n",
       "      <td>6909055</td>\n",
       "      <td>عالیییی بود فقط اول کار شارژ نداشت</td>\n",
       "      <td>5.0</td>\n",
       "      <td>f</td>\n",
       "    </tr>\n",
       "  </tbody>\n",
       "</table>\n",
       "</div>"
      ],
      "text/plain": [
       "   vid        id  product_id  \\\n",
       "0    3  43838571     6909055   \n",
       "1    6  43831255     6909055   \n",
       "2    8  43826435     6909055   \n",
       "3    9  43822870     6909055   \n",
       "4   10  43816708     6909055   \n",
       "\n",
       "                                                body  rate done  \n",
       "0  اصلا به بلوتوث وصل نمیشه نمیشه ساعتش را تنظیم ...   1.0    f  \n",
       "1  یه چیزی فرستادین که فقط روشن میشه و بعد چند ثا...   1.0    f  \n",
       "2                  سلام یکی از دکمه هاش کار نمی کنه    1.0    f  \n",
       "3  کالای نورد قبولی هستش؛ نسبت به قیمت واقعا عالی...   0.0    f  \n",
       "4                 عالیییی بود فقط اول کار شارژ نداشت   5.0    f  "
      ]
     },
     "execution_count": 6,
     "metadata": {},
     "output_type": "execute_result"
    }
   ],
   "source": [
    "com_df.head()"
   ]
  },
  {
   "cell_type": "code",
   "execution_count": 51,
   "metadata": {},
   "outputs": [
    {
     "name": "stdout",
     "output_type": "stream",
     "text": [
      "original rating values: [1.   0.   5.   4.   3.   2.   1.9  1.2  4.3  4.1  4.5  4.6  3.7  3.8\n",
      " 4.8  4.65 4.15 1.95 1.6  2.1  2.9  1.1  2.4  4.7  4.4  4.25 4.75 3.2\n",
      " 3.6  2.25 3.3  1.4  1.25 2.3  4.85 4.35 3.15 1.8  2.5  4.05 0.7  3.5\n",
      " 4.63 3.75 4.88 4.2  2.85 3.65 3.35 2.7  2.65 2.6  3.4  2.8  0.25 2.75\n",
      " 4.45 2.2  3.45 1.85 2.64 1.75 3.9  3.55 4.9  4.55 0.6  1.05 0.5 ]\n",
      "new rating values: [0, 1, 2, 3, 4, 5]\n"
     ]
    }
   ],
   "source": [
    "print(f\"original rating values: {com_df['rate'].unique()}\")\n",
    "\n",
    "com_df['new_rate'] = com_df['rate'].apply(lambda rate: round(rate))\n",
    "print(f\"new rating values: {sorted(com_df['new_rate'].unique())}\")"
   ]
  },
  {
   "cell_type": "code",
   "execution_count": 8,
   "metadata": {},
   "outputs": [
    {
     "name": "stdout",
     "output_type": "stream",
     "text": [
      "comments min and max length: 1, 1125\n"
     ]
    }
   ],
   "source": [
    "com_df['comment_word_count'] = com_df['body'].apply(lambda t: len(hazm.word_tokenize(t)))\n",
    "print(f\"comments min and max length: {com_df['comment_word_count'].min()}, {com_df['comment_word_count'].max()}\")"
   ]
  },
  {
   "cell_type": "code",
   "execution_count": 85,
   "metadata": {},
   "outputs": [
    {
     "data": {
      "text/plain": [
       "<AxesSubplot:title={'center':'Comments word count distribution'}, xlabel='comment_word_count', ylabel='count'>"
      ]
     },
     "execution_count": 85,
     "metadata": {},
     "output_type": "execute_result"
    },
    {
     "data": {
      "image/png": "[encoded data removed]",
      "text/plain": [
       "<Figure size 1500x500 with 1 Axes>"
      ]
     },
     "metadata": {},
     "output_type": "display_data"
    }
   ],
   "source": [
    "import seaborn as sns\n",
    "import matplotlib.pyplot as plt\n",
    "\n",
    "plt.figure(figsize=(15, 5))\n",
    "plt.title('Comments word count distribution')\n",
    "dt = com_df.loc[com_df['comment_word_count']<70]\n",
    "sns.countplot(x=dt['comment_word_count'])"
   ]
  },
  {
   "cell_type": "code",
   "execution_count": 86,
   "metadata": {},
   "outputs": [
    {
     "data": {
      "text/plain": [
       "<AxesSubplot:title={'center':'Rate count distribution'}, xlabel='new_rate'>"
      ]
     },
     "execution_count": 86,
     "metadata": {},
     "output_type": "execute_result"
    },
    {
     "data": {
      "image/png": "[encoded data removed]",
      "text/plain": [
       "<Figure size 640x480 with 1 Axes>"
      ]
     },
     "metadata": {},
     "output_type": "display_data"
    }
   ],
   "source": [
    "plt.title('Rate count distribution')\n",
    "groupby_rate = com_df.groupby('new_rate')['new_rate'].count()\n",
    "groupby_rate.plot.bar()"
   ]
  },
  {
   "attachments": {},
   "cell_type": "markdown",
   "metadata": {},
   "source": [
    "## Products exploration"
   ]
  },
  {
   "cell_type": "code",
   "execution_count": 87,
   "metadata": {},
   "outputs": [
    {
     "data": {
      "text/html": [
       "<div>\n",
       "<style scoped>\n",
       "    .dataframe tbody tr th:only-of-type {\n",
       "        vertical-align: middle;\n",
       "    }\n",
       "\n",
       "    .dataframe tbody tr th {\n",
       "        vertical-align: top;\n",
       "    }\n",
       "\n",
       "    .dataframe thead th {\n",
       "        text-align: right;\n",
       "    }\n",
       "</style>\n",
       "<table border=\"1\" class=\"dataframe\">\n",
       "  <thead>\n",
       "    <tr style=\"text-align: right;\">\n",
       "      <th></th>\n",
       "      <th>vid</th>\n",
       "      <th>id</th>\n",
       "      <th>cat_id</th>\n",
       "      <th>title_fa</th>\n",
       "      <th>rate</th>\n",
       "      <th>views</th>\n",
       "      <th>done</th>\n",
       "    </tr>\n",
       "  </thead>\n",
       "  <tbody>\n",
       "    <tr>\n",
       "      <th>0</th>\n",
       "      <td>13</td>\n",
       "      <td>4291430</td>\n",
       "      <td>5966</td>\n",
       "      <td>مجموعه کنسول بازی سونی مدل PlayStation 5 Drive...</td>\n",
       "      <td>92</td>\n",
       "      <td>225</td>\n",
       "      <td>t</td>\n",
       "    </tr>\n",
       "    <tr>\n",
       "      <th>1</th>\n",
       "      <td>5</td>\n",
       "      <td>5086666</td>\n",
       "      <td>5966</td>\n",
       "      <td>هندزفری بلوتوثی مدل  inpods 12</td>\n",
       "      <td>78</td>\n",
       "      <td>26888</td>\n",
       "      <td>t</td>\n",
       "    </tr>\n",
       "    <tr>\n",
       "      <th>2</th>\n",
       "      <td>14</td>\n",
       "      <td>5856710</td>\n",
       "      <td>5966</td>\n",
       "      <td>هدفون بلوتوثی کیو سی وای مدل T13 TWS</td>\n",
       "      <td>88</td>\n",
       "      <td>6221</td>\n",
       "      <td>t</td>\n",
       "    </tr>\n",
       "    <tr>\n",
       "      <th>3</th>\n",
       "      <td>11</td>\n",
       "      <td>4313121</td>\n",
       "      <td>5966</td>\n",
       "      <td>ساعت هوشمند مدل HW16</td>\n",
       "      <td>68</td>\n",
       "      <td>2543</td>\n",
       "      <td>t</td>\n",
       "    </tr>\n",
       "    <tr>\n",
       "      <th>4</th>\n",
       "      <td>21</td>\n",
       "      <td>6997456</td>\n",
       "      <td>2</td>\n",
       "      <td>تبلت اپل مدل iPad Mini 6th Generation 8.3 inch...</td>\n",
       "      <td>88</td>\n",
       "      <td>63</td>\n",
       "      <td>t</td>\n",
       "    </tr>\n",
       "  </tbody>\n",
       "</table>\n",
       "</div>"
      ],
      "text/plain": [
       "   vid       id  cat_id                                           title_fa  \\\n",
       "0   13  4291430    5966  مجموعه کنسول بازی سونی مدل PlayStation 5 Drive...   \n",
       "1    5  5086666    5966                     هندزفری بلوتوثی مدل  inpods 12   \n",
       "2   14  5856710    5966               هدفون بلوتوثی کیو سی وای مدل T13 TWS   \n",
       "3   11  4313121    5966                               ساعت هوشمند مدل HW16   \n",
       "4   21  6997456       2  تبلت اپل مدل iPad Mini 6th Generation 8.3 inch...   \n",
       "\n",
       "   rate  views done  \n",
       "0    92    225    t  \n",
       "1    78  26888    t  \n",
       "2    88   6221    t  \n",
       "3    68   2543    t  \n",
       "4    88     63    t  "
      ]
     },
     "execution_count": 87,
     "metadata": {},
     "output_type": "execute_result"
    }
   ],
   "source": [
    "products_df.head()"
   ]
  },
  {
   "cell_type": "code",
   "execution_count": 112,
   "metadata": {},
   "outputs": [
    {
     "name": "stdout",
     "output_type": "stream",
     "text": [
      "<class 'pandas.core.frame.DataFrame'>\n",
      "RangeIndex: 1615 entries, 0 to 1614\n",
      "Data columns (total 7 columns):\n",
      " #   Column    Non-Null Count  Dtype \n",
      "---  ------    --------------  ----- \n",
      " 0   vid       1615 non-null   int64 \n",
      " 1   id        1615 non-null   int64 \n",
      " 2   cat_id    1615 non-null   int64 \n",
      " 3   title_fa  1615 non-null   object\n",
      " 4   rate      1615 non-null   int64 \n",
      " 5   views     1615 non-null   int64 \n",
      " 6   done      1615 non-null   object\n",
      "dtypes: int64(5), object(2)\n",
      "memory usage: 88.4+ KB\n"
     ]
    }
   ],
   "source": [
    "products_df.info()"
   ]
  },
  {
   "cell_type": "code",
   "execution_count": 91,
   "metadata": {},
   "outputs": [
    {
     "name": "stdout",
     "output_type": "stream",
     "text": [
      "original rating values: [ 92  78  88  68  90  84  86  70  82  80 100  60  38  74  94  76  62  54\n",
      "   0  96  66  72  56  64  20  58  40  30  52  50  46  48]\n",
      "original rating count: 32\n"
     ]
    }
   ],
   "source": [
    "print(f\"original rating values: {products_df['rate'].unique()}\")\n",
    "print(f\"original rating count: {products_df['rate'].nunique()}\")"
   ]
  },
  {
   "cell_type": "code",
   "execution_count": 113,
   "metadata": {},
   "outputs": [
    {
     "data": {
      "text/plain": [
       "<AxesSubplot:title={'center':'Products rate count distribution'}, xlabel='rate'>"
      ]
     },
     "execution_count": 113,
     "metadata": {},
     "output_type": "execute_result"
    },
    {
     "data": {
      "image/png": "[encoded data removed]",
      "text/plain": [
       "<Figure size 640x480 with 1 Axes>"
      ]
     },
     "metadata": {},
     "output_type": "display_data"
    }
   ],
   "source": [
    "plt.title('Products rate count distribution')\n",
    "groupby_rate2 = products_df.groupby('rate')['rate'].count()\n",
    "groupby_rate2.plot.bar()"
   ]
  },
  {
   "cell_type": "code",
   "execution_count": 114,
   "metadata": {},
   "outputs": [
    {
     "name": "stdout",
     "output_type": "stream",
     "text": [
      "Views min and max:(0, 26888)\n"
     ]
    },
    {
     "data": {
      "text/plain": [
       "([], [])"
      ]
     },
     "execution_count": 114,
     "metadata": {},
     "output_type": "execute_result"
    },
    {
     "data": {
      "image/png": "[encoded data removed]",
      "text/plain": [
       "<Figure size 1500x500 with 1 Axes>"
      ]
     },
     "metadata": {},
     "output_type": "display_data"
    }
   ],
   "source": [
    "plt.figure(figsize=(15, 5))\n",
    "plt.title('Products views distribution')\n",
    "print(f\"Views min and max:{products_df['views'].min(), products_df['views'].max()}\")\n",
    "dt = products_df.loc[products_df['views']<1000]\n",
    "sns.countplot(x=dt['views'])\n",
    "plt.xticks([])"
   ]
  },
  {
   "cell_type": "code",
   "execution_count": null,
   "metadata": {},
   "outputs": [],
   "source": []
  }
 ],
 "metadata": {
  "kernelspec": {
   "display_name": "torch_cpu",
   "language": "python",
   "name": "python3"
  },
  "language_info": {
   "codemirror_mode": {
    "name": "ipython",
    "version": 3
   },
   "file_extension": ".py",
   "mimetype": "text/x-python",
   "name": "python",
   "nbconvert_exporter": "python",
   "pygments_lexer": "ipython3",
   "version": "3.9.15"
  },
  "orig_nbformat": 4,
  "vscode": {
   "interpreter": {
    "hash": "e455596007641283cc87219f97e2fd26218aebb3a81fc5364f4e42161bca8d8f"
   }
  }
 },
 "nbformat": 4,
 "nbformat_minor": 2
}
